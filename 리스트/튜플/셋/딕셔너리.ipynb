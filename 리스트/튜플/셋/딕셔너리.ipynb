{
  "nbformat": 4,
  "nbformat_minor": 0,
  "metadata": {
    "colab": {
      "provenance": [],
      "authorship_tag": "ABX9TyOU4rWRrQ6bJo1eo53m+gyj",
      "include_colab_link": true
    },
    "kernelspec": {
      "name": "python3",
      "display_name": "Python 3"
    },
    "language_info": {
      "name": "python"
    }
  },
  "cells": [
    {
      "cell_type": "markdown",
      "metadata": {
        "id": "view-in-github",
        "colab_type": "text"
      },
      "source": [
        "<a href=\"https://colab.research.google.com/github/Ohribird/Durk/blob/main/%EB%A6%AC%EC%8A%A4%ED%8A%B8/%ED%8A%9C%ED%94%8C/%EC%85%8B/%EB%94%95%EC%85%94%EB%84%88%EB%A6%AC.ipynb\" target=\"_parent\"><img src=\"https://colab.research.google.com/assets/colab-badge.svg\" alt=\"Open In Colab\"/></a>"
      ]
    },
    {
      "cell_type": "code",
      "execution_count": 3,
      "metadata": {
        "colab": {
          "base_uri": "https://localhost:8080/"
        },
        "id": "pojUvu-c3vU2",
        "outputId": "ef60105f-2214-4c3c-fa38-6d8327eb0bdc"
      },
      "outputs": [
        {
          "output_type": "stream",
          "name": "stdout",
          "text": [
            "[1, 2, 3, 4, 5, 6, 7, 7, 8, 9, 4]\n",
            "[1, 2, 3]\n",
            "[1, 2, 3]\n",
            "[1, 3, 5, 7, 8, 4]\n",
            "[8, 7, 7, 6, 5, 4]\n",
            "[1, 'two', 3, 4, 5, 6, 7, 7, 8, 9, 4]\n"
          ]
        }
      ],
      "source": [
        "#list\n",
        "a = [1,2,3,4,5,6,7,7,8,9,4]  \n",
        "  #  0 1 2 3 4 5 6 7 8 9 10\n",
        "#negative indexing뒤에서부터 찾을땐 -1, -2 ,-3 - - - - \n",
        "#indexing --> 0부터 시작 \n",
        "#슬라이싱   a[start:end] (단 end는 exclusive, 즉 포함안됨 )  print(a[0:3] --> 1,2,3)\n",
        "\n",
        "print(a[:])  #첨부터 끝까지 \n",
        "print(a[0:3:1]) #stepszie = 1 \n",
        "print(a[0:3:1]) #stepsize = 2\n",
        "print(a[::2]) #첨부터 끝까지 & stepsize = 2 \n",
        "print(a[8:2:-1]) #뒤에서부터 \n",
        "\n",
        "\n",
        "a[1] = 'two'   #리스트는 이렇게 바꾸기 가능 \n",
        "a.append('four')  # 선수추가 \n",
        "a.pop()  #마지막 하나 제거 "
      ]
    },
    {
      "cell_type": "code",
      "source": [
        "#tuple\n",
        "b = (1,2,3) #tuple   **함수에서 리턴값이 여러개라면 튜플형태로 나온다 \n",
        "\n",
        "#얘는  선수교체 사용 불가능   a[1] = 'two'처럼 \n",
        "#append, pop 같은건 튜플에선 사용 불가능 \n"
      ],
      "metadata": {
        "id": "FYDIR4Tl4Zzr"
      },
      "execution_count": null,
      "outputs": []
    },
    {
      "cell_type": "code",
      "source": [
        "#set   얘의 핵심은 중복데이터를 제거해주는거\n",
        "\n",
        "c = {1,2,3,3,3,3} #set  \n",
        "print(c)\n"
      ],
      "metadata": {
        "colab": {
          "base_uri": "https://localhost:8080/"
        },
        "id": "I9FxudCP4aYf",
        "outputId": "2fead371-b57a-4c05-bbed-43d90234ea55"
      },
      "execution_count": 4,
      "outputs": [
        {
          "output_type": "stream",
          "name": "stdout",
          "text": [
            "{1, 2, 3}\n"
          ]
        }
      ]
    },
    {
      "cell_type": "code",
      "source": [
        "#dictionary\n",
        "d = {'one':1, 'two':2}  # dict\n",
        "\n"
      ],
      "metadata": {
        "id": "afAychVq4bYU"
      },
      "execution_count": null,
      "outputs": []
    }
  ]
}