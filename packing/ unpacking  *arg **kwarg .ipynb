{
  "nbformat": 4,
  "nbformat_minor": 0,
  "metadata": {
    "colab": {
      "provenance": [],
      "authorship_tag": "ABX9TyN34m+tUlz7XhR1m7wXA7nw",
      "include_colab_link": true
    },
    "kernelspec": {
      "name": "python3",
      "display_name": "Python 3"
    },
    "language_info": {
      "name": "python"
    }
  },
  "cells": [
    {
      "cell_type": "markdown",
      "metadata": {
        "id": "view-in-github",
        "colab_type": "text"
      },
      "source": [
        "<a href=\"https://colab.research.google.com/github/Ohribird/Durk/blob/main/packing/%20unpacking%20%20*arg%20**kwarg%20.ipynb\" target=\"_parent\"><img src=\"https://colab.research.google.com/assets/colab-badge.svg\" alt=\"Open In Colab\"/></a>"
      ]
    },
    {
      "cell_type": "code",
      "execution_count": 10,
      "metadata": {
        "colab": {
          "base_uri": "https://localhost:8080/"
        },
        "id": "OxnRAPAUn812",
        "outputId": "aeba4d39-ea9c-4946-f4d5-c85ed09b6e7e"
      },
      "outputs": [
        {
          "output_type": "stream",
          "name": "stdout",
          "text": [
            "[1, 2, 3, 5]\n",
            "(1, 2, 3)\n",
            "{1, 2, 3}\n",
            "{'one': 1, 'two': 2}\n"
          ]
        }
      ],
      "source": [
        " a = [1,2,3, 5] #리스트 \n",
        " b = (1,2,3) #tuple   **함수에서 리턴값이 여러개라면 튜플형태로 나온다 \n",
        " c = {1,2,3,3,3,3} #set   \n",
        " d = {'one':1, 'two':2}  # dict\n",
        "\n",
        "print(a)\n",
        "print(b)\n",
        "print(c)\n",
        "print(d)"
      ]
    },
    {
      "cell_type": "code",
      "source": [
        "e = 1,2,3\n",
        "print(e,type(e))   #packing\n",
        "\n",
        "x, y ,z, w = a  #unpacking\n",
        "print(x,y,z, w) "
      ],
      "metadata": {
        "colab": {
          "base_uri": "https://localhost:8080/"
        },
        "id": "uB6TnOVRtK2q",
        "outputId": "d95eefbb-e64f-40a5-882e-2e5b016a19d5"
      },
      "execution_count": 12,
      "outputs": [
        {
          "output_type": "stream",
          "name": "stdout",
          "text": [
            "(1, 2, 3) <class 'tuple'>\n",
            "1 2 3 5\n"
          ]
        }
      ]
    },
    {
      "cell_type": "code",
      "source": [
        "#언패킹할때 많이 쓰는 기능 *\n",
        "\n",
        "def f(x,y,z= -1, w= -1):\n",
        "  print(x)\n",
        "  return x+y+z+w\n",
        "a= (1,1,1,1)\n",
        "print(f(*a))    # 그냥 print(f(a))라고 하면 오류뜸 \n",
        "\n",
        "#만약에 dict형태 print하려면  print(f(**a))  이렇게 별(와일드카드) 두개 붙어야함 \n",
        "\n"
      ],
      "metadata": {
        "colab": {
          "base_uri": "https://localhost:8080/"
        },
        "id": "P0KowHd5u_vD",
        "outputId": "379552c5-4bd6-4f4d-bbff-1c2d14e6b6f0"
      },
      "execution_count": 17,
      "outputs": [
        {
          "output_type": "stream",
          "name": "stdout",
          "text": [
            "1\n",
            "4\n"
          ]
        }
      ]
    },
    {
      "cell_type": "code",
      "source": [
        "#리스트 언패킹 예시\n",
        "\n",
        "import numpy as np\n",
        "import matplotlib.pyplot as plt\n",
        "x = np.random.normal(size=(100_000))   #정규분포\n",
        "fig, ax = plt.subplots(figsize= (15,3)) # 표 사이즈에 대한거\n",
        "d = {'alpha' : 0.5, 'fill' :False }  #투명도에 관한거   fill은 채우기 관련\n",
        "plt.hist(x, bins= 100, density= True, color='b', **d)  #bins = 항아리(막대기 하나)\n",
        "#color는 hex color도 가능, 구글에 쳐서 코드 복붙하면됨 \n",
        "#**d --> 언패킹한거 \n",
        "#density= True, color='b'  이것도 그냥 d에 넣어도됨!\n",
        "plt.show\n",
        "\n",
        "\n",
        "\n",
        "\n"
      ],
      "metadata": {
        "colab": {
          "base_uri": "https://localhost:8080/",
          "height": 178
        },
        "id": "wu4GXv_av7py",
        "outputId": "16cc1823-b01b-4a40-a074-b3544dcc76b6"
      },
      "execution_count": 29,
      "outputs": [
        {
          "output_type": "execute_result",
          "data": {
            "text/plain": [
              "<function matplotlib.pyplot.show(*args, **kw)>"
            ]
          },
          "metadata": {},
          "execution_count": 29
        },
        {
          "output_type": "display_data",
          "data": {
            "text/plain": [
              "<Figure size 1080x216 with 1 Axes>"
            ],
            "image/png": "[encoded data removed]"
          },
          "metadata": {
            "needs_background": "light"
          }
        }
      ]
    },
    {
      "cell_type": "code",
      "source": [
        "#튜플 언패킹 예시\n",
        "\n",
        "import numpy as np\n",
        "import matplotlib.pyplot as plt\n",
        "import scipy.stats as st\n",
        "sample = np.random.normal(size = (100_000,))\n",
        "x = np.linspace(-4,4,100)   #-4부터 4까지 100개의 점을 균일하게 찍는거 \n",
        "y= st.norm().pdf(x)  #표준정규분포 확률밀도함수 계산\n",
        "fig,ax = plt.subplots(figsize=(15,3))\n",
        "ax.hist(sample,bins = 100, density = True, alpha = 0.5)\n",
        "ax.plot(*(x,y), linestyle = '--', color= 'r', linewidth=5)   # *(x,y) 이게 튜플의 *arg 언패킹\n",
        "plt.show"
      ],
      "metadata": {
        "colab": {
          "base_uri": "https://localhost:8080/",
          "height": 178
        },
        "id": "WOTs63cKz9Fk",
        "outputId": "f1607c9f-05ac-4428-ad01-ee683ed7aee4"
      },
      "execution_count": 37,
      "outputs": [
        {
          "output_type": "execute_result",
          "data": {
            "text/plain": [
              "<function matplotlib.pyplot.show(*args, **kw)>"
            ]
          },
          "metadata": {},
          "execution_count": 37
        },
        {
          "output_type": "display_data",
          "data": {
            "text/plain": [
              "<Figure size 1080x216 with 1 Axes>"
            ],
            "image/png": "[encoded data removed]"
          },
          "metadata": {
            "needs_background": "light"
          }
        }
      ]
    },
    {
      "cell_type": "code",
      "source": [
        "def f(x,y):\n",
        "  return x+y \n",
        "\n",
        "print( f(1,1))\n",
        "\n",
        "#이렇게 간단한 함수를 한줄로 표현하는게 lambda\n",
        "\n",
        "f = lambda x, y : x+y\n",
        "print(f(1,1))"
      ],
      "metadata": {
        "colab": {
          "base_uri": "https://localhost:8080/"
        },
        "id": "NRdowmw81Yeg",
        "outputId": "02421798-f6a7-4ddf-8b78-123c46d23dad"
      },
      "execution_count": 41,
      "outputs": [
        {
          "output_type": "stream",
          "name": "stdout",
          "text": [
            "2\n",
            "2\n"
          ]
        }
      ]
    },
    {
      "cell_type": "code",
      "source": [
        "f = lambda x : x**2 -2"
      ],
      "metadata": {
        "id": "-UUqT5xP2BdD"
      },
      "execution_count": null,
      "outputs": []
    }
  ]
}